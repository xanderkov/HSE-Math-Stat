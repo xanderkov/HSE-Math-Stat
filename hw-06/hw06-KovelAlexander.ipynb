{
 "cells": [
  {
   "cell_type": "markdown",
   "metadata": {},
   "source": [
    "<center>\n",
    "<img src=\"https://raw.githubusercontent.com/FUlyankin/r_probability/master/end_seminars_2020/sem08/real_expect.png\" width=\"500\">\n",
    "\n",
    "# Домашнее задание 6: параметрические тесты\n",
    "</center>"
   ]
  },
  {
   "cell_type": "markdown",
   "metadata": {},
   "source": [
    "**ФИО:** Ковель Александр Денисович"
   ]
  },
  {
   "cell_type": "markdown",
   "metadata": {},
   "source": [
    "## Общая информация\n",
    "\n",
    "__Дата выдачи:__ 23.04.2025\n",
    "\n",
    "__Дедлайн:__ 23:59MSK 11.05.2025"
   ]
  },
  {
   "cell_type": "code",
   "execution_count": 1,
   "metadata": {},
   "outputs": [],
   "source": [
    "import numpy as np\n",
    "import pandas as pd\n",
    "\n",
    "import scipy.stats as sts\n",
    "import matplotlib.pyplot as plt\n",
    "import seaborn as sns"
   ]
  },
  {
   "cell_type": "markdown",
   "metadata": {},
   "source": [
    "### Задача №1: Лучше найди себе девушку! (25 баллов)"
   ]
  },
  {
   "cell_type": "markdown",
   "metadata": {},
   "source": [
    "В этой задаче вам предстоит проверить несколько гипотез на датасете из американского сервиса знакомств. Датасет называется `dating_is_hard.csv`\n",
    "\n",
    "Колонки датасета:\n",
    "- `age` - возраст\n",
    "- `is_heavy_drinker` - алкоголизм в булевом виде\n",
    "- `height` - рост в дюймах\n",
    "- `sex` - полов может быть только два - f для женщин и m для мужчин.\n",
    "- `smokes` - зависимость от табака в булевом виде\n",
    "- `location` - место жительства\n",
    "- `offspring` - отношение к детям\n",
    "\n",
    "Для каждого пункта нужно расписать нулевую и альтернативную гипотезу, описать какой именно критерий вы используете, перечислить предпослыки необходимые для его использования, а также вычислить значение статистики и p-value, если это возможно."
   ]
  },
  {
   "cell_type": "code",
   "execution_count": 3,
   "metadata": {},
   "outputs": [],
   "source": [
    "df = pd.read_csv('data/dating_is_hard.csv')"
   ]
  },
  {
   "cell_type": "markdown",
   "metadata": {},
   "source": [
    "__a) [5 баллов]__ Рост в приложениях для знакомств не проверяют, поэтому можно поставить себе любой и никто не узнает. Посмотрим же, врут ли люди о своём росте.\n",
    "\n",
    "Проверьте две гипотезы: совпадает ли средний рост мужчин в приложении с их реальным средним ростом и совпадает ли средний рост женщин в приложении с их реальным средним ростом\n",
    "\n",
    "__P.S.__ Средний рост мы вам не дамим. Ищите сами и приложите ссылку на источник в решении."
   ]
  },
  {
   "cell_type": "markdown",
   "metadata": {},
   "source": [
    "Мужчины: 69.1 дюйма\n",
    "Источник: https://www.cdc.gov/nchs/data/nhsr/nhsr122-508.pdf\n",
    "\n",
    "Женщины: 63.7 дюйма\n",
    "Источник: https://www.cdc.gov/nchs/data/nhsr/nhsr122-508.pdf"
   ]
  },
  {
   "cell_type": "code",
   "execution_count": 5,
   "metadata": {},
   "outputs": [
    {
     "name": "stdout",
     "output_type": "stream",
     "text": [
      "Мужчины: t = 10.238, p-value = 0.000\n",
      "Женщины: t = 8.370, p-value = 0.000\n"
     ]
    }
   ],
   "source": [
    "male_heights = df[df['sex'] == 'm']['height']\n",
    "female_heights = df[df['sex'] == 'f']['height']\n",
    "\n",
    "t_stat_male, p_value_male = sts.ttest_1samp(male_heights, popmean=69.1)\n",
    "print(f\"Мужчины: t = {t_stat_male:.3f}, p-value = {p_value_male:.3f}\")\n",
    "\n",
    "t_stat_female, p_value_female = sts.ttest_1samp(female_heights, popmean=63.7)\n",
    "print(f\"Женщины: t = {t_stat_female:.3f}, p-value = {p_value_female:.3f}\")"
   ]
  },
  {
   "cell_type": "markdown",
   "metadata": {},
   "source": [
    "__Вывод:__ p_value = 0. Отверагаем нулевую гипотезу, что средние рост совпадает."
   ]
  },
  {
   "cell_type": "markdown",
   "metadata": {},
   "source": [
    "__б) [10 баллов]__ По моим наблюдениям (состоящим из одного человека) мужчин-алкоголиков гораздо больше женщин. В нашем датасете алкоголизмом мы будем считать параметр `is_heavy_drinker`\n",
    "\n",
    "Проверьте гипотезу: Действительно ли доля мужчин-алкоголиков выше доли женщин-алкоголиков?"
   ]
  },
  {
   "cell_type": "code",
   "execution_count": 6,
   "metadata": {},
   "outputs": [
    {
     "name": "stdout",
     "output_type": "stream",
     "text": [
      "Мужчины: 51/600 (8.50%)\n",
      "Женщины: 31/400 (7.75%)\n"
     ]
    }
   ],
   "source": [
    "male_drinkers = df[df['sex'] == 'm']['is_heavy_drinker']\n",
    "female_drinkers = df[df['sex'] == 'f']['is_heavy_drinker']\n",
    "\n",
    "n_male = len(male_drinkers)\n",
    "n_female = len(female_drinkers)\n",
    "count_male = male_drinkers.sum()  \n",
    "count_female = female_drinkers.sum()  \n",
    "\n",
    "print(f\"Мужчины: {count_male}/{n_male} ({count_male/n_male:.2%})\")\n",
    "print(f\"Женщины: {count_female}/{n_female} ({count_female/n_female:.2%})\")"
   ]
  },
  {
   "cell_type": "code",
   "execution_count": 15,
   "metadata": {},
   "outputs": [
    {
     "name": "stdout",
     "output_type": "stream",
     "text": [
      "Z-статистика: 0.423\n",
      "P-value: 0.3360\n"
     ]
    }
   ],
   "source": [
    "from statsmodels.stats.proportion import proportions_ztest\n",
    "\n",
    "counts = [count_male, count_female]\n",
    "nobs = [n_male, n_female]\n",
    "\n",
    "z_stat, p_value = proportions_ztest(counts, nobs, alternative='larger')\n",
    "\n",
    "print(f\"Z-статистика: {z_stat:.3f}\")\n",
    "print(f\"P-value: {p_value:.4f}\")"
   ]
  },
  {
   "cell_type": "markdown",
   "metadata": {},
   "source": [
    "__Вывод:__ p_value большой, значит отвергаем гипотезу, что мужчин алкоголиков сильно больше. Даешь феминизм в алкоголизме"
   ]
  },
  {
   "cell_type": "markdown",
   "metadata": {},
   "source": [
    "__в) [10 баллов]__ Мой друг Володька решил бросить курить и теперь курит только когда пьёт. Это навело меня на мысль о том, что курение привлекает алкоголиков сильнее, чем обычных людей.\n",
    "\n",
    "Проверьте гипотезу: Действительно ли алкоголики больше склонны к курению, чем неалкоголики?"
   ]
  },
  {
   "cell_type": "code",
   "execution_count": 16,
   "metadata": {},
   "outputs": [
    {
     "name": "stdout",
     "output_type": "stream",
     "text": [
      "Алкоголики: 35/82 (42.68%) курят\n",
      "Трезвенники: 357/918 (38.89%) курят\n"
     ]
    }
   ],
   "source": [
    "drinkers = df[df['is_heavy_drinker']]\n",
    "non_drinkers = df[~df['is_heavy_drinker']]\n",
    "\n",
    "smokers_drinkers = drinkers['smokes'].sum()\n",
    "smokers_non_drinkers = non_drinkers['smokes'].sum()\n",
    "\n",
    "n_drinkers = len(drinkers)\n",
    "n_non_drinkers = len(non_drinkers)\n",
    "\n",
    "print(f\"Алкоголики: {smokers_drinkers}/{n_drinkers} ({smokers_drinkers/n_drinkers:.2%}) курят\")\n",
    "print(f\"Трезвенники: {smokers_non_drinkers}/{n_non_drinkers} ({smokers_non_drinkers/n_non_drinkers:.2%}) курят\")"
   ]
  },
  {
   "cell_type": "code",
   "execution_count": 17,
   "metadata": {},
   "outputs": [
    {
     "name": "stdout",
     "output_type": "stream",
     "text": [
      "Z-статистика: 0.674\n",
      "P-value: 0.2501\n"
     ]
    }
   ],
   "source": [
    "counts = [smokers_drinkers, smokers_non_drinkers]\n",
    "nobs = [n_drinkers, n_non_drinkers]\n",
    "\n",
    "z_stat, p_value = proportions_ztest(counts, nobs, alternative='larger')\n",
    "\n",
    "print(f\"Z-статистика: {z_stat:.3f}\")\n",
    "print(f\"P-value: {p_value:.4f}\")"
   ]
  },
  {
   "cell_type": "markdown",
   "metadata": {},
   "source": [
    "**Вывод:** Исходя из p_value алкоголики не сильно больше курят"
   ]
  },
  {
   "cell_type": "markdown",
   "metadata": {},
   "source": [
    "### Задача №2. Тестируем новый интерфейс страницы отеля  (25 баллов)"
   ]
  },
  {
   "cell_type": "markdown",
   "metadata": {},
   "source": [
    "Все мы любим отдыхать! А злые корпорации любят наживаться на нашем желании отдыхать.\n",
    "\n",
    "Представим что вы работаете в одной из таких корпораций и занимаетесь аналитикой сайта для бронирования отелей. Процесс бронирования имеет привычную структуру:\n",
    "- вбиваете в поиск направленния и даты\n",
    "- получаете выдачу вариантов отелей\n",
    "- переходите на страницу отеля\n",
    "- нажимаете кнопку \"забронировать\"\n",
    "- попадаете на страницу оплаты\n",
    "- оплачиваете\n",
    "\n",
    "Очевидно, на всех этапах этой воронки вы можете потерять пользователя. Поисследовав поведение пользователей вы решили внести изменения на странице об отеле и хотите чтобы выросла конверсия в бронирования"
   ]
  },
  {
   "cell_type": "markdown",
   "metadata": {},
   "source": [
    "__а) [3 балла]__ Подумайте, какие изменения могли бы быть внесены?\n",
    "\n",
    "**Ваш ответ:** Можно убрать переход на страницу отеля. И сразу сделать кнопку брони. Может быть сделать вообще какую-нибудь самую выгодную бронь, просмотра списка"
   ]
  },
  {
   "cell_type": "markdown",
   "metadata": {},
   "source": [
    "Перед вами датасет `ab_test.csv`, в нем содержатся данные о пользователях в период теста\n",
    "\n",
    "`user_id` - уникальный идентификатор пользователя \\\n",
    "`sex` - пол пользователя \\\n",
    "`datetime` - дата и время посещения сайта (начала сессии) \\\n",
    "`district` - регион расположения отеля \\\n",
    "`hotel_page` - был ли пользователь на странице отеля в сессии \\\n",
    "`payment_page` - был ли пользователь на странице оплаты в сессии \\\n",
    "`payment` - была ли произведена оплата в сессии \\\n",
    "`group` - группа в эксперименте\n",
    "\n",
    "Поскольку изменения вносились на странице отеля нас интересуют именно дошедшие до этой страницы пользователи. Поэтому колонка `hotel_page` принимает значение 1 всегда"
   ]
  },
  {
   "cell_type": "code",
   "execution_count": 18,
   "metadata": {},
   "outputs": [
    {
     "data": {
      "text/html": [
       "<div>\n",
       "<style scoped>\n",
       "    .dataframe tbody tr th:only-of-type {\n",
       "        vertical-align: middle;\n",
       "    }\n",
       "\n",
       "    .dataframe tbody tr th {\n",
       "        vertical-align: top;\n",
       "    }\n",
       "\n",
       "    .dataframe thead th {\n",
       "        text-align: right;\n",
       "    }\n",
       "</style>\n",
       "<table border=\"1\" class=\"dataframe\">\n",
       "  <thead>\n",
       "    <tr style=\"text-align: right;\">\n",
       "      <th></th>\n",
       "      <th>Unnamed: 0</th>\n",
       "      <th>user_id</th>\n",
       "      <th>sex</th>\n",
       "      <th>datetime</th>\n",
       "      <th>district</th>\n",
       "      <th>hotel_page</th>\n",
       "      <th>payment_page</th>\n",
       "      <th>payment</th>\n",
       "      <th>group</th>\n",
       "    </tr>\n",
       "  </thead>\n",
       "  <tbody>\n",
       "    <tr>\n",
       "      <th>0</th>\n",
       "      <td>0</td>\n",
       "      <td>3326449108867616315</td>\n",
       "      <td>1</td>\n",
       "      <td>11/15/2023 12:02 AM</td>\n",
       "      <td>Южный федеральный округ</td>\n",
       "      <td>1</td>\n",
       "      <td>1</td>\n",
       "      <td>0</td>\n",
       "      <td>control</td>\n",
       "    </tr>\n",
       "    <tr>\n",
       "      <th>1</th>\n",
       "      <td>1</td>\n",
       "      <td>7887645543455909870</td>\n",
       "      <td>1</td>\n",
       "      <td>11/02/2023 09:12 PM</td>\n",
       "      <td>Центральный федеральный округ</td>\n",
       "      <td>1</td>\n",
       "      <td>1</td>\n",
       "      <td>0</td>\n",
       "      <td>control</td>\n",
       "    </tr>\n",
       "    <tr>\n",
       "      <th>2</th>\n",
       "      <td>2</td>\n",
       "      <td>6148146969124793824</td>\n",
       "      <td>1</td>\n",
       "      <td>11/10/2023 10:06 AM</td>\n",
       "      <td>Центральный федеральный округ</td>\n",
       "      <td>1</td>\n",
       "      <td>1</td>\n",
       "      <td>1</td>\n",
       "      <td>control</td>\n",
       "    </tr>\n",
       "    <tr>\n",
       "      <th>3</th>\n",
       "      <td>3</td>\n",
       "      <td>2721602951940155275</td>\n",
       "      <td>0</td>\n",
       "      <td>11/12/2023 07:10 PM</td>\n",
       "      <td>Центральный федеральный округ</td>\n",
       "      <td>1</td>\n",
       "      <td>1</td>\n",
       "      <td>0</td>\n",
       "      <td>control</td>\n",
       "    </tr>\n",
       "    <tr>\n",
       "      <th>4</th>\n",
       "      <td>4</td>\n",
       "      <td>1829030712785972138</td>\n",
       "      <td>0</td>\n",
       "      <td>05/01/2024 05:19 AM</td>\n",
       "      <td>Южный федеральный округ</td>\n",
       "      <td>1</td>\n",
       "      <td>0</td>\n",
       "      <td>0</td>\n",
       "      <td>test</td>\n",
       "    </tr>\n",
       "  </tbody>\n",
       "</table>\n",
       "</div>"
      ],
      "text/plain": [
       "   Unnamed: 0              user_id  sex             datetime  \\\n",
       "0           0  3326449108867616315    1  11/15/2023 12:02 AM   \n",
       "1           1  7887645543455909870    1  11/02/2023 09:12 PM   \n",
       "2           2  6148146969124793824    1  11/10/2023 10:06 AM   \n",
       "3           3  2721602951940155275    0  11/12/2023 07:10 PM   \n",
       "4           4  1829030712785972138    0  05/01/2024 05:19 AM   \n",
       "\n",
       "                        district  hotel_page  payment_page  payment    group  \n",
       "0        Южный федеральный округ           1             1        0  control  \n",
       "1  Центральный федеральный округ           1             1        0  control  \n",
       "2  Центральный федеральный округ           1             1        1  control  \n",
       "3  Центральный федеральный округ           1             1        0  control  \n",
       "4        Южный федеральный округ           1             0        0     test  "
      ]
     },
     "execution_count": 18,
     "metadata": {},
     "output_type": "execute_result"
    }
   ],
   "source": [
    "df = pd.read_csv(\"data/ab_simpson.csv\")\n",
    "df.head()"
   ]
  },
  {
   "cell_type": "markdown",
   "metadata": {},
   "source": [
    "__б) [3 балла]__ Сделайте небольшой eda, какие выводы вы можете сделать о данных? Корректно ли проводился аб тест? Найдите ошибки и объясните почему это некорректно."
   ]
  },
  {
   "cell_type": "code",
   "execution_count": 19,
   "metadata": {},
   "outputs": [
    {
     "data": {
      "text/plain": [
       "Unnamed: 0      0\n",
       "user_id         0\n",
       "sex             0\n",
       "datetime        0\n",
       "district        0\n",
       "hotel_page      0\n",
       "payment_page    0\n",
       "payment         0\n",
       "group           0\n",
       "dtype: int64"
      ]
     },
     "execution_count": 19,
     "metadata": {},
     "output_type": "execute_result"
    }
   ],
   "source": [
    "df.isna().sum()"
   ]
  },
  {
   "cell_type": "code",
   "execution_count": 20,
   "metadata": {},
   "outputs": [
    {
     "data": {
      "text/plain": [
       "sex\n",
       "0    200906\n",
       "1    200901\n",
       "Name: count, dtype: int64"
      ]
     },
     "execution_count": 20,
     "metadata": {},
     "output_type": "execute_result"
    }
   ],
   "source": [
    "df[\"sex\"].value_counts()"
   ]
  },
  {
   "cell_type": "code",
   "execution_count": 21,
   "metadata": {},
   "outputs": [
    {
     "data": {
      "text/plain": [
       "district\n",
       "Южный федеральный округ              120749\n",
       "Центральный федеральный округ        120336\n",
       "Приволжский федеральный округ         60333\n",
       "Северо-Западный федеральный округ     50071\n",
       "Уральский федеральный округ           26189\n",
       "Сибирский федеральный округ           16072\n",
       "Дальневосточный федеральный округ      8057\n",
       "Name: count, dtype: int64"
      ]
     },
     "execution_count": 21,
     "metadata": {},
     "output_type": "execute_result"
    }
   ],
   "source": [
    "df[\"district\"].value_counts()"
   ]
  },
  {
   "cell_type": "code",
   "execution_count": 22,
   "metadata": {},
   "outputs": [
    {
     "name": "stdout",
     "output_type": "stream",
     "text": [
      "Распределение по группам:\n",
      "group\n",
      "test       201935\n",
      "control    199872\n",
      "Name: count, dtype: int64\n",
      "\n",
      "Распределение по полу в группах:\n",
      "group  control    test\n",
      "sex                   \n",
      "0        99991  100915\n",
      "1        99881  101020\n",
      "\n",
      "Распределение по регионам в группах:\n",
      "group                              control   test\n",
      "district                                         \n",
      "Дальневосточный федеральный округ     1999   6058\n",
      "Приволжский федеральный округ        23985  36348\n",
      "Северо-Западный федеральный округ    39974  10097\n",
      "Сибирский федеральный округ           7994   8078\n",
      "Уральский федеральный округ           5996  20193\n",
      "Центральный федеральный округ        79949  40387\n",
      "Южный федеральный округ              39975  80774\n"
     ]
    }
   ],
   "source": [
    "print(\"Распределение по группам:\")\n",
    "print(df[\"group\"].value_counts())\n",
    "\n",
    "print(\"\\nРаспределение по полу в группах:\")\n",
    "print(pd.crosstab(df[\"sex\"], df[\"group\"]))\n",
    "\n",
    "print(\"\\nРаспределение по регионам в группах:\")\n",
    "print(pd.crosstab(df[\"district\"], df[\"group\"]))"
   ]
  },
  {
   "cell_type": "markdown",
   "metadata": {},
   "source": [
    "Равномерно распределены группы. Поэтому ок"
   ]
  },
  {
   "cell_type": "markdown",
   "metadata": {},
   "source": [
    "Раскроем правду. Изменение продукта касалось адаптации страницы отеля под его регион. Например, в южных регионах пользователям на странице отеля предлагались активности для пляжного отдыха, а в северном и центральном регионе сразу подбирались ближайшие экскурсии и так далее.\n",
    "\n",
    "__в) [5 баллов]__ Проанализируйте, как ведут себя конверсии в страницу оплаты и в оплату в разных регионах? Опишите выводы."
   ]
  },
  {
   "cell_type": "code",
   "execution_count": 24,
   "metadata": {},
   "outputs": [
    {
     "name": "stdout",
     "output_type": "stream",
     "text": [
      "                            district  total_users  payment_page_conversion  \\\n",
      "4        Уральский федеральный округ        26189                 0.438543   \n",
      "0  Дальневосточный федеральный округ         8057                 0.175251   \n",
      "6            Южный федеральный округ       120749                 0.806690   \n",
      "1      Приволжский федеральный округ        60333                 0.630120   \n",
      "3        Сибирский федеральный округ        16072                 0.310042   \n",
      "5      Центральный федеральный округ       120336                 0.910068   \n",
      "2  Северо-Западный федеральный округ        50071                 0.704040   \n",
      "\n",
      "   payment_conversion  \n",
      "4            0.309748  \n",
      "0            0.309296  \n",
      "6            0.307555  \n",
      "1            0.301742  \n",
      "3            0.288514  \n",
      "5            0.277772  \n",
      "2            0.267940  \n"
     ]
    }
   ],
   "source": [
    "conv_by_district = df.groupby('district').agg(\n",
    "    total_users=('user_id', 'count'),\n",
    "    payment_page_conversion=('payment_page', 'mean'),\n",
    "    payment_conversion=('payment', 'mean')\n",
    ").reset_index()\n",
    "\n",
    "print(conv_by_district.sort_values('payment_conversion', ascending=False))"
   ]
  },
  {
   "cell_type": "markdown",
   "metadata": {},
   "source": [
    "Неохотно люди едут на восток, видимо очень дорого, также в Сибирь тоже не оч."
   ]
  },
  {
   "cell_type": "markdown",
   "metadata": {},
   "source": [
    "__г) [5 баллов]__ Проанализируйте, улучшилась ли воронка для пользователей в тестовой группе по сравнению с контрольной вне зависимости от региона? Опишите выводы."
   ]
  },
  {
   "cell_type": "code",
   "execution_count": 26,
   "metadata": {},
   "outputs": [
    {
     "name": "stdout",
     "output_type": "stream",
     "text": [
      "     group  total_users  payment_page_conversion  payment_conversion\n",
      "0  control       199872                 0.756999            0.250170\n",
      "1     test       201935                 0.726803            0.333885\n"
     ]
    }
   ],
   "source": [
    "\n",
    "funnel_by_group = df.groupby('group').agg(\n",
    "    total_users=('user_id', 'count'),\n",
    "    payment_page_conversion=('payment_page', 'mean'),\n",
    "    payment_conversion=('payment', 'mean')\n",
    ").reset_index()\n",
    "\n",
    "print(funnel_by_group)"
   ]
  },
  {
   "cell_type": "markdown",
   "metadata": {},
   "source": [
    "Да"
   ]
  },
  {
   "cell_type": "markdown",
   "metadata": {},
   "source": [
    "__д) [5 баллов]__ Проанализируйте распределение интересов пользователей в тестовой и контрольной группе. Какими регионами они интересовались? Изменились ли их предпочтения?"
   ]
  },
  {
   "cell_type": "code",
   "execution_count": 27,
   "metadata": {},
   "outputs": [
    {
     "name": "stdout",
     "output_type": "stream",
     "text": [
      "Доля пользователей из каждого региона в группах A и B (%):\n",
      "group                                control       test\n",
      "district                                               \n",
      "Дальневосточный федеральный округ  24.810724  75.189276\n",
      "Приволжский федеральный округ      39.754363  60.245637\n",
      "Северо-Западный федеральный округ  79.834635  20.165365\n",
      "Сибирский федеральный округ        49.738676  50.261324\n",
      "Уральский федеральный округ        22.895109  77.104891\n",
      "Центральный федеральный округ      66.438140  33.561860\n",
      "Южный федеральный округ            33.105864  66.894136\n",
      "\n",
      "Абсолютное количество пользователей по регионам:\n",
      "group                              control   test\n",
      "district                                         \n",
      "Дальневосточный федеральный округ     1999   6058\n",
      "Приволжский федеральный округ        23985  36348\n",
      "Северо-Западный федеральный округ    39974  10097\n",
      "Сибирский федеральный округ           7994   8078\n",
      "Уральский федеральный округ           5996  20193\n",
      "Центральный федеральный округ        79949  40387\n",
      "Южный федеральный округ              39975  80774\n"
     ]
    }
   ],
   "source": [
    "region_distribution = pd.crosstab(df['district'], df['group'], normalize='index') * 100\n",
    "print(\"Доля пользователей из каждого региона в группах A и B (%):\")\n",
    "print(region_distribution)\n",
    "\n",
    "region_counts = pd.crosstab(df['district'], df['group'])\n",
    "print(\"\\nАбсолютное количество пользователей по регионам:\")\n",
    "print(region_counts)"
   ]
  },
  {
   "cell_type": "markdown",
   "metadata": {},
   "source": [
    "Если вы все сделали правильно, то у вас получился противоречивые ответы в пунктах 3 и 4. Вы попали в ловушку Парадокса Симпсона. Подробнее о нем можно почитать [здесь](https://ru.wikipedia.org/wiki/Парадокс_Симпсона)\n",
    "\n",
    "<img src=\"https://github.com/hse-econ-data-science/andan_2023/blob/main/hw/hw04/images/simpson.jpg?raw=true\" width=\"350\" align='center'> "
   ]
  },
  {
   "cell_type": "markdown",
   "metadata": {},
   "source": [
    "__е) [4 балла]__ Теперь, когда вы все узнали, опишите кратко почему вы получили противоречивый результат в пунктах 3 и 4 (1 балл)"
   ]
  },
  {
   "cell_type": "markdown",
   "metadata": {},
   "source": [
    "**Ваш ответ:** за счет улучшения результата проблемных регионов просели, основные денежные регионы"
   ]
  },
  {
   "cell_type": "markdown",
   "metadata": {},
   "source": [
    "## Задача №3: Не подглядывать! (50 баллов)\n",
    "\n",
    "<img src=\"https://github.com/hse-econ-data-science/andan_2023/blob/main/hw/hw04/images/trump.png?raw=true\" width=\"500\" align='left'>"
   ]
  },
  {
   "cell_type": "markdown",
   "metadata": {},
   "source": [
    "На американских выборах 2020 года в некоторых штатах проходила очень конкурентная борьба между кандидатами. По мере подсчета голосов перевес в голосах склонялся то в пользу демократов, то в пользу республиканцев. И вот, в один из таких моментов, когда чаша весов склонилась в пользу республиканцев, Д. Трамп написал в твиттер \"stop the count!\", что означало призыв к остановке подсчета голосов. \n",
    "\n",
    "_Здесь у вас мог возникнуть вопрос, и зачем нам это?_ \n",
    "\n",
    "Ответ очень прост. В этой ситуации всем очевидно, что призыв Трампа не мог быть осуществлен, то есть прерывать подсчет голосов раньше времени кажется довольно глупым способом выявления победителя. И вот абсолютно такой же способ принятия решения есть и в А/Б-тестах, только теперь многим аналитикам он уже кажется не столь очевидным, что приводит к существенным ошибкам в заключении выводов. \n",
    "\n",
    "_Решив эту задачу, мы познакомимся с такой проблемой подробнее и поймем, как не стоит делать, когда вы запускаете А/Б-тест._"
   ]
  },
  {
   "cell_type": "markdown",
   "metadata": {},
   "source": [
    "Чтобы понять, в чем же именно заключается проблема, мы с вами будем проводить симуляции А/Б-тестов. Это когда мы генерируем данные уже со знаниями, как эти данные устроены. А затем, запуская процедуру проверки гипотез над такими симулированными данными, мы будем оценивать, что происходит на практике (при запуске А/Б-теста).\n",
    "\n",
    "На практике же всегда неизвестно, как устроены данные, и проводя А/Б-тест мы пытаемся зафиксировать различия. Еще раз, здесь же мы будем знать об устройстве данных, а затем будем смотреть на поведение А/Б-теста, то есть как будто бы смотреть на тест с обратной стороны. \n",
    "\n",
    "_Перед тем как идти дальше, остановитесь здесь и еще раз зафиксируйте это!_"
   ]
  },
  {
   "cell_type": "markdown",
   "metadata": {},
   "source": [
    "__а) [10 баллов]  Подсчет размера выборки для А/Б-теста__\n",
    "\n",
    "Предположим, что вы хотите провести А/Б-тест внутри вашего приложения. Вы выбрали некоторую метрику $X$ – случайную величину из нормального распределения с мат. ожиданием $100$ у.е. и стандартным отклонением $40$ у.е – это ваш бейзлайн (группа А). Рассчитайте, сколько дней вам нужно крутить такой А/Б-тест, если:\n",
    "\n",
    "1. Вы ожидаете получить минимальный размер эффекта в $5$ у.е.;\n",
    "2. Вы хотите зафиксировать ошибку первого рода на уровне $\\alpha=5\\%$, а ошибку второго рода на уровне $\\beta=20\\%$;\n",
    "3. Вы точно знаете, что в группе Б стандартное отклонение метрики составляет также $20$ у.е.\n",
    "4. Посещаемость вашего приложения ежедневно составляет $200$ пользователей, и вы готовы раскатить тест на $100\\%$ трафика.\n",
    "\n",
    "Формула для расчета числа наблюдений _для одной группы_:\n",
    "\n",
    "$$\n",
    "n_{\\text{one group}} = \\frac{(\\sigma_A^2 + \\sigma_B^2) \\cdot (z_{1-\\frac{\\alpha}{2}} + z_{1-\\beta})^2}{MDE^2},\n",
    "$$\n",
    "\n",
    "__Подсказка:__ Помните, что после получения общего числа наблюдений вам нужно выразить это в дни! Вы должны получить целое число. Также будьте аккуратны с подсчетом трафика и кол-ва наблюдений – обратите внимание, со скольким числом групп вы работаете!"
   ]
  },
  {
   "cell_type": "code",
   "execution_count": null,
   "metadata": {},
   "outputs": [],
   "source": [
    "# your code here\n",
    "# (♡-_-♡) "
   ]
  },
  {
   "cell_type": "markdown",
   "metadata": {},
   "source": [
    "__б) [20 баллов] Симуляция А/Б-теста__\n",
    "\n",
    "Теперь нам нужно запустить А/Б-тест. Для этого:"
   ]
  },
  {
   "cell_type": "markdown",
   "metadata": {},
   "source": [
    "1. Сгенерируйте выборку данных из нормального распределения для группы А и Б в конкретный один день. Считайте, что в группе Б математическое ожидание составляет $105$ у.е., то есть с учетом размера вашего минимального ожидаемого эффекта из предыдущего пункта."
   ]
  },
  {
   "cell_type": "code",
   "execution_count": null,
   "metadata": {},
   "outputs": [],
   "source": [
    "# your code here\n",
    "# ヽ(♡‿♡)ノ"
   ]
  },
  {
   "cell_type": "markdown",
   "metadata": {},
   "source": [
    "2. Теперь представим, что наш тест был запущен $X$ дней. Напишите функцию, которая за этот период теста собирает в `DataFrame` следующие данные на каждый день теста: \n",
    "    1. среднее метрики в группе А\n",
    "    2. среднее метрики в группе Б\n",
    "    3. p-value, посчитанное с помощью t-test – можно воспользоваться встроенной функцией `scipy.stats.ttest_ind`\n",
    "    \n",
    "    Соберите `DataFrame` для $X=50$.\n",
    "    \n",
    "__Подсказка:__ Среднее для 1-го дня должно считаться по пользователям, пришедших в первый день, для второго дня – по пользователям, пришедшим в первый и второй день и т.д. То есть накопленным итогом за каждый день теста."
   ]
  },
  {
   "cell_type": "code",
   "execution_count": null,
   "metadata": {},
   "outputs": [],
   "source": [
    "# your code here\n",
    "# (´｡• ᵕ •｡`) "
   ]
  },
  {
   "cell_type": "markdown",
   "metadata": {},
   "source": [
    "3. На основе `DataFrame` из предыдущего пункта постройте график динамики среднего в группе А и в группе Б по дням теста. Отложите вертикальную линию на этом же графике, показывающую кол-во дней, посчитанных в пункте 1. Сделайте эту линию пунктирной и измените цвет, который вам больше нравится."
   ]
  },
  {
   "cell_type": "code",
   "execution_count": null,
   "metadata": {},
   "outputs": [],
   "source": [
    "# your code here\n",
    "# (´｡• ᵕ •｡`) "
   ]
  },
  {
   "cell_type": "markdown",
   "metadata": {},
   "source": [
    "4. На основе `DataFrame` из предыдущего пункта постройте график динамики p-value по дням теста. Отложите вертикальную линию на этом же графике, показывающую кол-во дней, посчитанных в пункте 1. Сделайте эту линию пунктирной и измените цвет, который вам больше нравится. Также отложите горизонтальную линию – ваш уровень значимости $\\alpha$."
   ]
  },
  {
   "cell_type": "code",
   "execution_count": null,
   "metadata": {},
   "outputs": [],
   "source": [
    "# your code here\n",
    "# (´｡• ᵕ •｡`) "
   ]
  },
  {
   "cell_type": "markdown",
   "metadata": {},
   "source": [
    "5. Перегенируруйте шаги 2-4 несколько раз, посмотрев на графики. Что вы видите? Что происходит с p-value в периодах:\n",
    "    1. до кол-ва дней, посчитанных по формуле из п.1\n",
    "    2. в точке кол-ва дней, посчитанных по формуле из п.1\n",
    "    3. после кол-ва дней, посчитанных по формуле из п.1\n",
    "    \n",
    "    Опишите выводы максимально подробно."
   ]
  },
  {
   "cell_type": "code",
   "execution_count": null,
   "metadata": {},
   "outputs": [],
   "source": [
    "# your thoughts here  \n",
    "# (◕‿◕)♡"
   ]
  },
  {
   "cell_type": "markdown",
   "metadata": {},
   "source": [
    "6. Теперь предположим, что мы поменяли наш $MDE$ до $1$ у.е. То есть мат. ожидание в группе А осталось по-прежнему $100$, а вот в группе Б теперь $101$. Перегенерируйте пункты 2-4 для измененного $MDE$, при этом кол-во дней в п.1 не пересчитывайте. Что происходит с p-value? Сделайте выводы."
   ]
  },
  {
   "cell_type": "code",
   "execution_count": null,
   "metadata": {},
   "outputs": [],
   "source": [
    "# your code and thoughts here\n",
    "# ♡ (´｡• ω •｡`) ♡"
   ]
  },
  {
   "cell_type": "markdown",
   "metadata": {},
   "source": [
    "__в) [20 баллов] Симуляция А/А-теста__\n",
    "\n",
    "Теперь представим, что изменений на самом деле никаких нету, то есть мат. ожидание в обоих группах $100$, а $MDE = 0$"
   ]
  },
  {
   "cell_type": "markdown",
   "metadata": {},
   "source": [
    "1. И снова перегенерируйте вышесделанные пункты 2-4. Что происходит с p-value? Может ли оно оказаться ниже уровня значимости? "
   ]
  },
  {
   "cell_type": "code",
   "execution_count": null,
   "metadata": {},
   "outputs": [],
   "source": [
    "# your code and thoughts here\n",
    "# =^･ｪ･^="
   ]
  },
  {
   "cell_type": "markdown",
   "metadata": {},
   "source": [
    "2. Ну и напоследок, напишите функцию, которая генерирует p-value на последний день A/A теста. А затем запустите эту функцию $1000$ раз, собрав $1000$ значений p-value. Постройте гистограмму их распределения. Что вы видите? \n",
    "\n",
    "__Подсказка:__ Для такой функции достаточно создать выборку один раз, изменив ее размер."
   ]
  },
  {
   "cell_type": "code",
   "execution_count": null,
   "metadata": {},
   "outputs": [],
   "source": [
    "# your code and thoughts here\n",
    "# C (・_・)ノ"
   ]
  }
 ],
 "metadata": {
  "kernelspec": {
   "display_name": "Python 3",
   "language": "python",
   "name": "python3"
  },
  "language_info": {
   "codemirror_mode": {
    "name": "ipython",
    "version": 3
   },
   "file_extension": ".py",
   "mimetype": "text/x-python",
   "name": "python",
   "nbconvert_exporter": "python",
   "pygments_lexer": "ipython3",
   "version": "3.11.11"
  }
 },
 "nbformat": 4,
 "nbformat_minor": 2
}
