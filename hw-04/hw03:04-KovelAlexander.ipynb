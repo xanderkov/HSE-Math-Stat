{
 "cells": [
  {
   "cell_type": "markdown",
   "id": "9074d943",
   "metadata": {},
   "source": [
    "<center>\n",
    "<img src=\"https://raw.githubusercontent.com/FUlyankin/r_probability/master/end_seminars_2020/sem08/real_expect.png\" width=\"800\">\n",
    "\n",
    "# Yet another matstat course: домашнее задание 3\n",
    "</center>\n"
   ]
  },
  {
   "cell_type": "markdown",
   "id": "153348a7",
   "metadata": {},
   "source": "**ФИО:** Ковель Александр Денисович"
  },
  {
   "cell_type": "markdown",
   "id": "f40dc119",
   "metadata": {},
   "source": [
    "__Жёсткий дедлайн:__ 23:59MSK 30.03.2025\n",
    "\n",
    "## Формат сдачи\n",
    "\n",
    "Сам ноутбук называйте в формате hw-06-USERNAME.ipynb, где USERNAME — ваши фамилия и имя. Файл надо будет сдать в anytask."
   ]
  },
  {
   "cell_type": "markdown",
   "id": "6001b408",
   "metadata": {},
   "source": [
    "## Задача 1: метрика плохих показов (13 баллов)"
   ]
  },
  {
   "cell_type": "markdown",
   "id": "b865a8e8",
   "metadata": {},
   "source": [
    "Мало того, что в интернете постоянно кто-то не прав, так ещё и куча спама, фейков, хейтспича, кликбейта и другого «плохого» контента. Каждая уважающая себя платформа борется с ним. Более того, гиганты вроде Facebook публикуют [transparency-отчёты](https://transparency.fb.com/reports/community-standards-enforcement/) о том, сколько показов «плохого» контента пропустила их система модерации. \n",
    "\n",
    "Давайте представим себе, что мы Youtube. Мы хотим, чтобы пользователям как можно реже показывался «плохой» контент (например, спам или порно). \n",
    "\n",
    "К сожалению, мы не можем сделать ручную разметку всех видео, которые загружают люди. Поток нового видео на платформе постоянно растёт. Нам надо будет поддерживать огромный штат модераторов. Поэтому для каждого нарушения, с помощью машинного обучения, обычно делают классификаторы. Нейросети пытаются предсказать, есть ли в видео неприемлимый контент. Если его вероятность высокая, видео автоматически банится. Если нейросеть не уверена, видео отправляют на разметку модераторам. Если мы обучим хороший классификатор, подавляющая часть потока будет оставаться без модерации. \n",
    "\n",
    "Параллельно с классификатором мы можем начать размечать модераторами жалобы и самые вирусные видосы. Машинное обучение даёт осечки. Какое-то одно «плохое» видео, пропущенное нашей системой, может набрать много показов. Постмодерация самых вирусных видео и жалоб могут нас от этого спасти. \n",
    "\n",
    "Нам хотелось бы понимать, насколько хорошо работает система модерации. Для этого мы будем оценивать долю «плохих» показов. Если мы показываем видео со спамом, такие показы мы считаем плохими.\n",
    "\n",
    "**Наша задача**  —  получить несмещённую оценку доли плохих показов на youtube, а также построить для неё доверительный интервал. Тогда мы будем видеть, с каким нарушением у нас больше всего проблем, а также сможем придумывать для системы модерации разные улучшения и понимать, насколько они эффективны."
   ]
  },
  {
   "cell_type": "markdown",
   "id": "59afac5d",
   "metadata": {},
   "source": [
    "#### 1. Данные\n",
    "\n",
    "У нас есть данные о просмотре видео на youtube за сутки. Таблица весьма громадная, так как она содержит несколько миллиардов уникальных видео. Мы хотим выбрать из неё тысячу случайных видео, чтобы модераторы разметили их на спам. При этом, нам нужно учесть частоту просмотров. Популярные видео должны иметь больше шансов попасть в подвыборку. Тогда по этой разметке мы сможем оценить долю плохих показов. \n",
    "\n",
    "|      video                         |            shows                  |\n",
    "|:----------------------------------:|:---------------------------------:|\n",
    "| Baby Shark                         |  13 840 000 000                   |\n",
    "| Despacito                          |   8 340 000 000                   |\n",
    "| Johny Johny Yes Papa               |   6 850 000 000                   |\n",
    "| ........                           |   ........                        |\n",
    "| 1. Андан-2025: симуляции           |   2                               |\n",
    "\n",
    "Давайте посчитаем для каждого видео вероятность, что оно будет показно и сделаем `np.random.choice`, как в коде ниже."
   ]
  },
  {
   "cell_type": "code",
   "id": "b2a6b3bd",
   "metadata": {
    "ExecuteTime": {
     "end_time": "2025-03-22T10:13:01.454880Z",
     "start_time": "2025-03-22T10:13:00.584769Z"
    }
   },
   "source": [
    "import numpy as np \n",
    "import pandas as pd \n",
    "import scipy.stats as sts"
   ],
   "outputs": [],
   "execution_count": 1
  },
  {
   "cell_type": "code",
   "id": "1e011d0d",
   "metadata": {
    "ExecuteTime": {
     "end_time": "2025-03-22T10:13:01.481414Z",
     "start_time": "2025-03-22T10:13:01.457078Z"
    }
   },
   "source": [
    "# сгенерируем показы из распределения Парето, чтобы было побольше выбросов как в жизни.\n",
    "n_obs = 10**6\n",
    "\n",
    "b = 0.7\n",
    "rv = sts.pareto(b)\n",
    "shows = np.round(rv.rvs(n_obs))\n",
    "shows # это показы"
   ],
   "outputs": [
    {
     "data": {
      "text/plain": [
       "array([ 6., 15.,  2., ...,  2.,  4.,  2.])"
      ]
     },
     "execution_count": 2,
     "metadata": {},
     "output_type": "execute_result"
    }
   ],
   "execution_count": 2
  },
  {
   "cell_type": "code",
   "id": "cc932538",
   "metadata": {
    "ExecuteTime": {
     "end_time": "2025-03-22T10:13:01.485565Z",
     "start_time": "2025-03-22T10:13:01.482295Z"
    }
   },
   "source": [
    "videos = np.arange(1, n_obs + 1) # это id видео\n",
    "videos"
   ],
   "outputs": [
    {
     "data": {
      "text/plain": [
       "array([      1,       2,       3, ...,  999998,  999999, 1000000])"
      ]
     },
     "execution_count": 3,
     "metadata": {},
     "output_type": "execute_result"
    }
   ],
   "execution_count": 3
  },
  {
   "cell_type": "code",
   "id": "89f6421c",
   "metadata": {
    "ExecuteTime": {
     "end_time": "2025-03-22T10:13:02.273322Z",
     "start_time": "2025-03-22T10:13:02.269333Z"
    }
   },
   "source": [
    "p = shows / shows.sum() # это вероятность того что видео будет показано\n",
    "p"
   ],
   "outputs": [
    {
     "data": {
      "text/plain": [
       "array([5.25737505e-09, 1.31434376e-08, 1.75245835e-09, ...,\n",
       "       1.75245835e-09, 3.50491670e-09, 1.75245835e-09])"
      ]
     },
     "execution_count": 4,
     "metadata": {},
     "output_type": "execute_result"
    }
   ],
   "execution_count": 4
  },
  {
   "cell_type": "code",
   "id": "21db5060",
   "metadata": {
    "ExecuteTime": {
     "end_time": "2025-03-22T10:13:03.744512Z",
     "start_time": "2025-03-22T10:13:03.720205Z"
    }
   },
   "source": [
    "# генерируем выборку без повторений из 100 видео с учётом показов (более частые видео попадут в выборку вероятнее)\n",
    "k = 100\n",
    "np.random.choice(videos, size=k, replace=False, p = p)"
   ],
   "outputs": [
    {
     "data": {
      "text/plain": [
       "array([837753, 818928, 733631, 715409,  76896, 181190, 659135, 969647,\n",
       "       872821, 780805, 772162, 785002, 820933,  71073, 208807, 956955,\n",
       "       384886, 437942, 152115, 312570, 724464, 770510, 120790, 181306,\n",
       "       518414, 669837, 979443,  51544, 802350, 620823, 883653, 968349,\n",
       "       229417, 502367, 694656, 224214, 772848, 723270, 166463,   3995,\n",
       "       464061, 479280, 840861,  13240, 685590, 434115, 869760, 585960,\n",
       "       762835, 279735, 764891, 194573, 281343, 413979, 551395, 930951,\n",
       "       315773,  60778, 738283, 922435, 796073, 568055, 838883,  49891,\n",
       "       106622, 788010, 328975, 352817, 635462,  75202, 454289, 689491,\n",
       "       650940, 915950, 458178, 904484, 349243, 537334, 415792,  28212,\n",
       "       115292, 437241, 551480, 193894, 528741, 109763, 371454, 579648,\n",
       "        22050, 152941, 964927, 328476, 887382, 417329, 479605, 635282,\n",
       "       295929, 142369, 765398, 765375])"
      ]
     },
     "execution_count": 5,
     "metadata": {},
     "output_type": "execute_result"
    }
   ],
   "execution_count": 5
  },
  {
   "cell_type": "markdown",
   "id": "021deaf1",
   "metadata": {},
   "source": [
    "У такого подхода есть проблема. Если в таблице миллиарды строк, мы не сможем сохранить таблицу в оперативную память. Нам для генерации выборки понадобится супер-компьютер. Хотелось бы этого избежать. К счастью, для решения этой проблемы есть [много алгоритмов,](https://en.wikipedia.org/wiki/Reservoir_sampling) и мы с вами реализуем один из них."
   ]
  },
  {
   "cell_type": "markdown",
   "id": "6ea21d10",
   "metadata": {},
   "source": [
    "#### 2. Сэмплирование с повторениями\n",
    "\n",
    "Для начала поработаем с сэмплированием с повторениями. Сгенерируем таблицу с данными. \n",
    "\n"
   ]
  },
  {
   "cell_type": "code",
   "id": "9387a096",
   "metadata": {
    "ExecuteTime": {
     "end_time": "2025-03-22T10:13:18.164386Z",
     "start_time": "2025-03-22T10:13:18.151207Z"
    }
   },
   "source": [
    "np.random.seed(42)\n",
    "n_obs = 10**5\n",
    "\n",
    "b = 0.7\n",
    "rv = sts.pareto(b)\n",
    "\n",
    "df = pd.DataFrame.from_dict({\n",
    "    'video_id': np.arange(1, n_obs + 1),\n",
    "    'shows': np.round(rv.rvs(n_obs)),\n",
    "    'is_spam': np.random.binomial(1, 0.10, n_obs), # пусть в 10% видео встречается спам\n",
    "})\n",
    "\n",
    "print(df.shape)\n",
    "df.head()"
   ],
   "outputs": [
    {
     "name": "stdout",
     "output_type": "stream",
     "text": [
      "(100000, 3)\n"
     ]
    },
    {
     "data": {
      "text/plain": [
       "   video_id  shows  is_spam\n",
       "0         1    2.0        0\n",
       "1         2   74.0        0\n",
       "2         3    7.0        0\n",
       "3         4    4.0        0\n",
       "4         5    1.0        0"
      ],
      "text/html": [
       "<div>\n",
       "<style scoped>\n",
       "    .dataframe tbody tr th:only-of-type {\n",
       "        vertical-align: middle;\n",
       "    }\n",
       "\n",
       "    .dataframe tbody tr th {\n",
       "        vertical-align: top;\n",
       "    }\n",
       "\n",
       "    .dataframe thead th {\n",
       "        text-align: right;\n",
       "    }\n",
       "</style>\n",
       "<table border=\"1\" class=\"dataframe\">\n",
       "  <thead>\n",
       "    <tr style=\"text-align: right;\">\n",
       "      <th></th>\n",
       "      <th>video_id</th>\n",
       "      <th>shows</th>\n",
       "      <th>is_spam</th>\n",
       "    </tr>\n",
       "  </thead>\n",
       "  <tbody>\n",
       "    <tr>\n",
       "      <th>0</th>\n",
       "      <td>1</td>\n",
       "      <td>2.0</td>\n",
       "      <td>0</td>\n",
       "    </tr>\n",
       "    <tr>\n",
       "      <th>1</th>\n",
       "      <td>2</td>\n",
       "      <td>74.0</td>\n",
       "      <td>0</td>\n",
       "    </tr>\n",
       "    <tr>\n",
       "      <th>2</th>\n",
       "      <td>3</td>\n",
       "      <td>7.0</td>\n",
       "      <td>0</td>\n",
       "    </tr>\n",
       "    <tr>\n",
       "      <th>3</th>\n",
       "      <td>4</td>\n",
       "      <td>4.0</td>\n",
       "      <td>0</td>\n",
       "    </tr>\n",
       "    <tr>\n",
       "      <th>4</th>\n",
       "      <td>5</td>\n",
       "      <td>1.0</td>\n",
       "      <td>0</td>\n",
       "    </tr>\n",
       "  </tbody>\n",
       "</table>\n",
       "</div>"
      ]
     },
     "execution_count": 6,
     "metadata": {},
     "output_type": "execute_result"
    }
   ],
   "execution_count": 6
  },
  {
   "cell_type": "markdown",
   "id": "f12344e8",
   "metadata": {},
   "source": [
    "__а) [1 балл]__  Посчитайте по табличке `df` истиную долю плохих показов: \n",
    "\n",
    "$$\n",
    "p_{\\text{bad}} = \\frac{\\sum_{v \\in V} \\text{show}(v) \\cdot \\text{isSpam}(v) }{\\sum_{v \\in V} \\text{show}(v)}.\n",
    "$$"
   ]
  },
  {
   "cell_type": "code",
   "id": "f8f9768f",
   "metadata": {
    "ExecuteTime": {
     "end_time": "2025-03-22T10:16:15.632191Z",
     "start_time": "2025-03-22T10:16:15.628164Z"
    }
   },
   "source": [
    "bad_shows = (df['shows'] * df['is_spam']).sum() \n",
    "total_shows = df['shows'].sum() \n",
    "\n",
    "p_bad = bad_shows / total_shows  \n",
    "print(f'Истинная доля плохих показов: {p_bad:.4f}')"
   ],
   "outputs": [
    {
     "name": "stdout",
     "output_type": "stream",
     "text": [
      "Истинная доля плохих показов: 0.0305\n"
     ]
    }
   ],
   "execution_count": 7
  },
  {
   "cell_type": "markdown",
   "id": "8e574f40",
   "metadata": {},
   "source": [
    "Мы не знаем всех меток $\\text{isSpam}(v)$. Мы можем позволить себе разметить маленький сэмпл, $S ⊂ V$. Каждое видео попадает к нам в сэмпл пропорционально числу его показов. Поэтому логично оценить долю плохих показов как \n",
    "\n",
    "$$\n",
    "\\hat{p}_{\\text{bad}} = \\frac{1}{|\\text{S}|}\\sum_{v \\in S} \\text{isSpam}(v).\n",
    "$$"
   ]
  },
  {
   "cell_type": "markdown",
   "id": "bb2210a2",
   "metadata": {},
   "source": [
    "__б) [1 балл]__ С помощью функции `np.random.choice` cделайте $10^4$ выборок __с повторениями__ размера $1000$. \n",
    "\n",
    "Постройте для каждой оценку доли плохих показов. Считайте, что модератор во время разметки безошибочно определяет значение из колонки `is_spam`. \n",
    "\n",
    "Нарисуйте гистограмму для получившегося распределения. Отметьте на ней настоящую долю плохих показов и получившееся у вас среднее. Правда ли, что мы получили несмещённую оценку?\n",
    "\n",
    "**Hint:** Перейдите от `pandas` к `numpy` и обратите внимание на команду `argsort()`. Такой код будет работать быстрее."
   ]
  },
  {
   "cell_type": "code",
   "id": "ca9b68e5",
   "metadata": {
    "ExecuteTime": {
     "end_time": "2025-03-22T10:20:43.822700Z",
     "start_time": "2025-03-22T10:20:43.537295Z"
    }
   },
   "source": [
    "import matplotlib.pyplot as plt\n",
    "\n",
    "n_samples = 10_000\n",
    "sample_size = 1000\n",
    "p_true = bad_shows / total_shows\n",
    "\n",
    "is_spam_values = df['is_spam'].values"
   ],
   "outputs": [],
   "execution_count": 8
  },
  {
   "metadata": {
    "ExecuteTime": {
     "end_time": "2025-03-22T10:20:56.142623Z",
     "start_time": "2025-03-22T10:20:45.793632Z"
    }
   },
   "cell_type": "code",
   "source": [
    "p_bad_estimates = []\n",
    "for _ in range(n_samples):\n",
    "    sample_indices = np.random.choice(n_obs, size=sample_size, replace=True, p=df['shows']/df['shows'].sum())\n",
    "    sample_is_spam = is_spam_values[sample_indices]\n",
    "    p_bad_estimate = np.mean(sample_is_spam)  \n",
    "    p_bad_estimates.append(p_bad_estimate)\n",
    "\n",
    "p_bad_estimates = np.array(p_bad_estimates)"
   ],
   "id": "de16c0052e48ebbf",
   "outputs": [],
   "execution_count": 9
  },
  {
   "metadata": {
    "ExecuteTime": {
     "end_time": "2025-03-22T10:20:58.045494Z",
     "start_time": "2025-03-22T10:20:57.952990Z"
    }
   },
   "cell_type": "code",
   "source": [
    "plt.figure(figsize=(10, 6))\n",
    "plt.hist(p_bad_estimates, bins=30, alpha=0.7, color='blue', edgecolor='black', density=True)\n",
    "plt.axvline(p_true, color='red', linestyle='dashed', linewidth=2, label=f'Trusted p_bad = {p_true:.4f}')\n",
    "plt.axvline(p_bad_estimates.mean(), color='green', linestyle='dashed', linewidth=2, label=f'Mean estimate = {p_bad_estimates.mean():.4f}')\n",
    "plt.title('Distribution of Estimated Bad Display Rates')\n",
    "plt.xlabel('Estimated p_bad')\n",
    "plt.ylabel('Density')\n",
    "plt.legend()\n",
    "plt.grid()\n",
    "plt.show()"
   ],
   "id": "d739b424ec74350a",
   "outputs": [
    {
     "data": {
      "text/plain": [
       "<Figure size 1000x600 with 1 Axes>"
      ],
      "image/png": "[encoded data removed]"
     },
     "metadata": {},
     "output_type": "display_data"
    }
   ],
   "execution_count": 10
  },
  {
   "metadata": {
    "ExecuteTime": {
     "end_time": "2025-03-22T10:20:59.333671Z",
     "start_time": "2025-03-22T10:20:59.331857Z"
    }
   },
   "cell_type": "code",
   "source": [
    "print(f'Истинная доля плохих показов: {p_true:.4f}')\n",
    "print(f'Средняя оценка доли плохих показов: {p_bad_estimates.mean():.4f}')"
   ],
   "id": "b0e05eb83acadfab",
   "outputs": [
    {
     "name": "stdout",
     "output_type": "stream",
     "text": [
      "Истинная доля плохих показов: 0.0305\n",
      "Средняя оценка доли плохих показов: 0.0304\n"
     ]
    }
   ],
   "execution_count": 11
  },
  {
   "cell_type": "markdown",
   "id": "4eacebab",
   "metadata": {},
   "source": [
    "#### 3. Сэмплирование без повторений\n",
    "\n",
    "Выше мы сказали, что делать `np.random.choice` для огромных таблиц невозможно, так как они не поместятся в оперативную память. \n",
    "\n",
    "Более того, нам надо дать модераторам разметить видео на спам. Многие видео будут повторяться. Уникальных видео каждый раз будет разное количество. Нагрузка на модераторов будет неравномерной. Они будут жаловаться на это. Хочется, чтобы нагрузка всегда была одинаковой.\n",
    "\n",
    "Давайте сменим подход и будем делать **случайную взвешенную выборку БЕЗ ПОВТОРЕНИЙ.** Это означает, что наблюдения зависят друг от друга. Причём корреляция между ними довольно высокая. Это будет приводить к проблемам. "
   ]
  },
  {
   "cell_type": "markdown",
   "id": "24fcc751",
   "metadata": {},
   "source": [
    "Пусть у нас есть $n$ объектов. Мы хотим отобрать $k$ видео для разметки модераторами. Использование `np.random.choice` можно проинтерпретировать следующим образом: \n",
    "\n",
    "1. Напишем название $i-$го видео на разных табличках $\\text{shows}_i$ раз.\n",
    "2. Случайно перемешаем все таблички и положим их в стопку в случайном порядке.\n",
    "3. Будем отбирать самые верхние таблички до тех пор, пока не встретим $k$ разных названий видео."
   ]
  },
  {
   "cell_type": "markdown",
   "id": "f6d92a13",
   "metadata": {},
   "source": [
    "Если бы нам были бы не важны веса в виде показов, каждое видео попадало бы к нам в выборку равновероятно. Мы могли бы отобрать выборку размера $k$ следущим образом: \n",
    "\n",
    "1. Для каждого видео генерируем $X_i \\sim U[0; 1]$ (по одной табличке на видео).\n",
    "2. Сортируем все видео по сгенерированной случайной величине.\n",
    "3. Срезаем топ-k видео в итоговую выборку."
   ]
  },
  {
   "cell_type": "markdown",
   "id": "461280ff",
   "metadata": {},
   "source": [
    "Веса в виде показов для нас важны. В теринах равномерных случайных величин алгоритм с весами можно записать так: \n",
    "\n",
    "1. Для $i$-го видео генерируем $\\text{shows}_i$ независимых равномерных случайных величин (для каждого видео свое число табличек). \n",
    "2. Складываем все таблички в одну стопку и сортируем их по сгенерированным величинам.\n",
    "3. Идём по массиву от больших элементов к меньшим и отбираем видео, пока не накопим $k$ элементов."
   ]
  },
  {
   "cell_type": "markdown",
   "id": "a8e24fc7",
   "metadata": {},
   "source": [
    "Очень не хочется для какого-нибудь популярного видео генерировать несколько миллиардов случайных чисел. Конечно же, сразу нужно генерировать случайную величину, которая будет максимумом нескольких независимых равномерных случайных величин. На итоговую сортировку это никак не повлияет. Мы отберём те же самые видео.  \n",
    "\n"
   ]
  },
  {
   "cell_type": "markdown",
   "id": "4b90d075",
   "metadata": {},
   "source": [
    "Сгенерировать для каждого видео $X_{i,max}$ можно с помощью квантильного преобразования. \n",
    "\n",
    "Пусть случайные величины $X_1, \\ldots, X_m \\sim \\text{iid} \\, U[0;1].$ Пусть $Y = \\max(X_1, \\ldots, X_m).$ \n",
    "\n",
    "Мы знаем, что $F_{Y}(x) = x^m,$ если $x \\in [0; 1].$ Выборку из распределения $F_{Y}(x)$ можно сгенерировать в два шага: \n",
    "\n",
    "- $x_1, \\ldots, x_m \\sim \\text{iid} \\, U[0;1]$\n",
    "- $y_i = x_i^{\\frac{1}{m}}$\n",
    "\n",
    "__в) [1 балл]__ Фактически нам надо отсортировать все видео по величине $X_i^{\\frac{1}{\\text{shows}_i}}$, где $X_i \\sim U[0;1]$, и отобрать топ-$k$ видео в выборку для разметки модераторами. Сделайте, используя эту процедуру, для таблицы `df` сэмпл размера $100$."
   ]
  },
  {
   "cell_type": "code",
   "id": "46cd75c6",
   "metadata": {
    "ExecuteTime": {
     "end_time": "2025-03-22T10:36:51.915954Z",
     "start_time": "2025-03-22T10:36:51.900196Z"
    }
   },
   "source": [
    "sample_size = 100\n",
    "k = 10 \n",
    "\n",
    "U = np.random.uniform(0, 1, n_obs)\n",
    "\n",
    "Y = U ** (1 / df['shows'].to_numpy())\n",
    "\n",
    "df['Y'] = Y\n",
    "\n",
    "top_videos = df.nlargest(k, 'Y')\n",
    "\n",
    "print(\"Топ-{} видео для разметки модераторами:\".format(k))\n",
    "print(top_videos[['video_id', 'shows', 'Y']])"
   ],
   "outputs": [
    {
     "name": "stdout",
     "output_type": "stream",
     "text": [
      "Топ-10 видео для разметки модераторами:\n",
      "       video_id       shows         Y\n",
      "15618     15619    778644.0  1.000000\n",
      "89529     89530  19257035.0  1.000000\n",
      "43676     43677   3216133.0  1.000000\n",
      "531         532    117586.0  1.000000\n",
      "58232     58233   1066786.0  1.000000\n",
      "51554     51555    267762.0  1.000000\n",
      "46862     46863   1726808.0  1.000000\n",
      "96707     96708   3972215.0  1.000000\n",
      "46179     46180     17485.0  1.000000\n",
      "21818     21819     12628.0  0.999999\n"
     ]
    }
   ],
   "execution_count": 12
  },
  {
   "cell_type": "markdown",
   "id": "c38c245f",
   "metadata": {},
   "source": [
    "__г) [1 балл]__ Вычислять на компьютере корни из числа, лежащего между 0 и 1 не очень удобно с точки зрения округления. Могут возникать большие ошибки.\n",
    "\n",
    "Гораздо эффективнее отобрать топ по величине $\\frac{1}{\\text{shows}_i} \\cdot \\ln X_i$, где $X_i \\sim U[0;1]$. Проделайте это."
   ]
  },
  {
   "cell_type": "code",
   "id": "199a9358",
   "metadata": {
    "ExecuteTime": {
     "end_time": "2025-03-22T10:39:28.448077Z",
     "start_time": "2025-03-22T10:39:28.440485Z"
    }
   },
   "source": [
    "Z = (1 / df['shows'].to_numpy()) * np.log(U)\n",
    "\n",
    "df['Z'] = Z\n",
    "\n",
    "top_videos = df.nlargest(k, 'Z')\n",
    "\n",
    "print(\"Топ-{} видео для разметки модераторами:\".format(k))\n",
    "print(top_videos[['video_id', 'shows', 'Z']])"
   ],
   "outputs": [
    {
     "name": "stdout",
     "output_type": "stream",
     "text": [
      "Топ-10 видео для разметки модераторами:\n",
      "       video_id       shows             Z\n",
      "15618     15619    778644.0 -4.372792e-08\n",
      "89529     89530  19257035.0 -4.951035e-08\n",
      "43676     43677   3216133.0 -1.203337e-07\n",
      "531         532    117586.0 -1.554666e-07\n",
      "58232     58233   1066786.0 -1.613684e-07\n",
      "51554     51555    267762.0 -1.754896e-07\n",
      "46862     46863   1726808.0 -1.818553e-07\n",
      "96707     96708   3972215.0 -2.499576e-07\n",
      "46179     46180     17485.0 -3.927103e-07\n",
      "21818     21819     12628.0 -6.122791e-07\n"
     ]
    }
   ],
   "execution_count": 15
  },
  {
   "cell_type": "markdown",
   "id": "7bd49407",
   "metadata": {},
   "source": [
    "Такую процедуру можно найти в продакшн-процессах у многих компаний. В Яндексе похожая процедура используется для сэмплирования поисковых запросов для дальнейшей разметки. [В статье](https://yadi.sk/i/IxKLPFEj3TSpPe) можно найти доказательство того, что алгоритм даст корректную вероятность для каждого видео.\n",
    "\n",
    "В примере выше, мы держим табличку в оперативной памяти компьютера. Это игрушечный пример, и это позволительно. В реальной жизни мы можем считывать строки с жесткого диска, для каждой из них по очереди генерировать случайную величину и поддерживать топ-к уникальных видео в памяти. Например, в этом может помочь такая структура данных [как куча.](https://ru.wikipedia.org/wiki/Куча_(структура_данных)) "
   ]
  },
  {
   "cell_type": "markdown",
   "id": "5c725136",
   "metadata": {},
   "source": [
    "#### 4. Оценка доли плохих показов\n",
    "\n",
    "Дальше нам остаётся разметить видео и аккуратно посчитать итоговую метрику. Беда будет в том, что она окажется смещённой. "
   ]
  },
  {
   "cell_type": "markdown",
   "id": "4e24fabe",
   "metadata": {},
   "source": [
    "__д) [1 балл]__ Сделайте $10^4$ выборок размера $1000$. Постройте для каждой оценку доли плохих показов. Считайте, что модератор во время разметки безошибочно определяет значение из колонки `is_spam`. \n",
    "\n",
    "Нарисуйте гистограмму для получившегося распределения. Отметьте на ней настоящую долю плохих показов и получившееся у вас среднее. Правда ли, что они сильно отличаются друг от друга? Найдите среднее смещение оценки."
   ]
  },
  {
   "cell_type": "code",
   "id": "ff992280",
   "metadata": {
    "ExecuteTime": {
     "end_time": "2025-03-22T10:45:49.198308Z",
     "start_time": "2025-03-22T10:45:39.010497Z"
    }
   },
   "source": [
    "p_bad_estimates = []\n",
    "for _ in range(n_samples):\n",
    "    sample_indices = np.random.choice(n_obs, size=sample_size, replace=True, p=df['shows']/df['shows'].sum())\n",
    "    sample_is_spam = df['is_spam'].iloc[sample_indices]\n",
    "    p_bad_estimate = sample_is_spam.mean() \n",
    "    p_bad_estimates.append(p_bad_estimate)\n",
    "\n",
    "p_bad_estimates = np.array(p_bad_estimates)"
   ],
   "outputs": [],
   "execution_count": 16
  },
  {
   "metadata": {
    "ExecuteTime": {
     "end_time": "2025-03-22T10:45:49.272009Z",
     "start_time": "2025-03-22T10:45:49.199182Z"
    }
   },
   "cell_type": "code",
   "source": [
    "plt.figure(figsize=(10, 6))\n",
    "plt.hist(p_bad_estimates, bins=30, alpha=0.7, color='blue', edgecolor='black', density=True)\n",
    "plt.axvline(p_true, color='red', linestyle='dashed', linewidth=2, label=f'True p_bad = {p_true:.4f}')\n",
    "plt.axvline(p_bad_estimates.mean(), color='green', linestyle='dashed', linewidth=2, label=f'Mean estimate = {p_bad_estimates.mean():.4f}')\n",
    "plt.title('Distribution of Estimated Bad Display Rates')\n",
    "plt.xlabel('Estimated p_bad')\n",
    "plt.ylabel('Density')\n",
    "plt.legend()\n",
    "plt.grid()\n",
    "plt.show()"
   ],
   "id": "d15175ce1217c6f2",
   "outputs": [
    {
     "data": {
      "text/plain": [
       "<Figure size 1000x600 with 1 Axes>"
      ],
      "image/png": "[encoded data removed]"
     },
     "metadata": {},
     "output_type": "display_data"
    }
   ],
   "execution_count": 17
  },
  {
   "metadata": {
    "ExecuteTime": {
     "end_time": "2025-03-22T10:45:49.275553Z",
     "start_time": "2025-03-22T10:45:49.272859Z"
    }
   },
   "cell_type": "code",
   "source": [
    "bias = p_bad_estimates.mean() - p_true\n",
    "print(f'Истинная доля плохих показов: {p_true:.4f}')\n",
    "print(f'Средняя оценка доли плохих показов: {p_bad_estimates.mean():.4f}')\n",
    "print(f'Среднее смещение оценки: {bias:.4f}')"
   ],
   "id": "430c5132e01150c9",
   "outputs": [
    {
     "name": "stdout",
     "output_type": "stream",
     "text": [
      "Истинная доля плохих показов: 0.0305\n",
      "Средняя оценка доли плохих показов: 0.0301\n",
      "Среднее смещение оценки: -0.0004\n"
     ]
    }
   ],
   "execution_count": 18
  },
  {
   "cell_type": "markdown",
   "id": "9b820f32",
   "metadata": {},
   "source": [
    "**Откуда появляется это смещение?** Представим себе, что у нас есть случайная величина $X$, которая принмает пять значений с вероятностями \n",
    "\n",
    "<center>\n",
    "\n",
    "|  $X$         | $x_1$   | $x_2$ | $x_3$ | $x_4$    | $x_5$    |\n",
    "|:------------:|:-------:|:-----:|:-----:|:--------:|:--------:|\n",
    "| $P(X = x)$   | $^1/_2$ |$^1/_4$|$^1/_8$|$^1/_{16}$|$^1/_{16}$|\n",
    "\n",
    "</center>\n",
    "\n",
    "Если мы делаем выборку с повторениями, как часто туда будет попадать элемент $x_1$? Элемент попадает в выборку с вероятностью $^1/_2.$ Будем вытаскивать из выборки элементы до тех пор, пока $x_1$ не окажется в наших руках. Номер попытки, начиная с которой $x_1$ окажется у нас, имеет геометрическое распределение. Если $Y \\sim \\text{Geom}(p),$ тогда $\\mathbb{E}(Y) = \\frac{1}{p}.$ \n",
    "\n",
    "Получается, элемент $x_1$ окажется в нашей выборке в среднем на второй попытке. Если бы мы делали выборку с повторениями, каждый второй элемент в ней был бы равен $x_1,$  каждый четвёртый был бы равен $x_2$, каждый восьмой был бы равен $x_3$ и так далее. Обратим внимание, что если мы делаем выборку из трёх элементов без повторений, то чаще всего мы будем работать с выборкой $x_1, x_2, x_3$. \n",
    "\n",
    "В ситуации с видео, мы сэмплируем их пропорционально числу показов. В числе показов может быть очень сильный перекос. Какие-то видео показываются в рекомендательной системе десятки раз, а какие-то вирусятся и прорываются в тренды. Каждый раз, когда мы __без возвращения__ берём новое видео в выборку, мы как бы занижаем его вес в несмещённой выборке (выборке с повторениями)."
   ]
  },
  {
   "cell_type": "markdown",
   "id": "4290bb25",
   "metadata": {},
   "source": [
    "#### 5. Исправляем смещение\n",
    "\n",
    "На выборку без повторений размера $n$ можно смотреть следующим образом: мы генерируем выборку с возвращением до тех пор, пока количество уникальных элементов не достигнет числа $n$. При этом, если мы берём на каком-то шаге элемент уже выбранный ранее, мы не включаем его в выборку, а только отдельно запоминаем где-нибудь счётчик числа вхождений этого элемента $c_i$. При таком подходе несмещённую оценку доли плохого можно записать как \n",
    "\n",
    "$$\n",
    "\\hat{p}_{\\text{bad}} = \\frac{\\sum_{i=1}^{n} c_i \\cdot \\text{isSpam}(v_i)}{\\sum_{i=1}^{n} c_i.}\n",
    "$$\n",
    "\n",
    "Если выборка имеет сильно неравномерные веса, то нам придётся довольно долго генерировать элементы с возвращением, пока мы наберём необходимое количество уникальных. \n",
    "\n",
    "Поэтому вместо того, чтобы накапливать счётчики вхождений, мы рассчитаем их математическое ожидание по всем сгенерированным выборкам без повторений, имеющим такое же упорядоченное множество элементов $w_i = \\mathbb{E}(c_i).$\n",
    "\n",
    "Пусть $q_i = \\frac{show(v_i)}{\\sum_{j=1}^{|V|} show(v_j)}$,пусть $w_i^k$ —  количество вхождений элемента с индексом $i$ к моменту, когда в выборке набралось $k$ уникальных элементов. Пусть уникальные элементы попадают в выборку в порядке $v_1, v_2, v_3, \\ldots, v_n$. \n",
    "\n",
    "Когда мы возьмём первый элемент: \n",
    "\n",
    "$$\n",
    "w_1^1 =1, \\quad w_2^1 = 0, \\quad w_3^1 = 0, \\quad \\ldots, \\quad w_n^1 = 0.\n",
    "$$\n",
    "\n",
    "Прежде, чем мы достанем второй уникальный элемент, мы, в среднем, достанем первый элемент ещё  $\\frac{1}{1 - q_1} - 1 = \\frac{q_1}{1 - q_1}$ раз. \n",
    "\n",
    "Эту величину мы посчитали с помощью геометрического распределения. В качестве успешного события мы рассматриваем второй уникальный элемент. Вероятность успеха равна $1- q_1.$ Геометрическая случайная величина представляет из себя номер первого успешного события. Если мы хотим получить число не успешных событий, надо вычесть единицу.\n",
    "\n",
    "Получаем\n",
    "\n",
    "$$\n",
    "w_1^2 = 1 + \\frac{q_1}{1 - q_1}, \\quad w_2^2 = 1, \\quad w_3^2 = 0, \\quad \\ldots, \\quad w_n^2 = 0.\n",
    "$$\n",
    "\n",
    "Прежде, чем мы достанем третий уникальный элемент, мы, в среднем, достанем первые два элемента ещё $\\frac{1}{1 - (q_1 + q_2)} - 1 = \\frac{q_1 + q_2}{1 - (q_1 + q_2)}$ раз. Из них доля доставания первого элемента составляет $\\frac{q_1}{q_1 + q_2}$, а доля второго $\\frac{q_2}{q_1 + q_2}$. \n",
    "\n",
    "Получаем \n",
    "\n",
    "$$\n",
    "w_1^3 = 1 + \\frac{q_1}{1 - q_1} + \\frac{q_1}{1 - (q_1 + q_2)}, \\quad w_2^3 = 1 + \\frac{q_2}{1 - (q_1 + q_2)}, \\quad  w_3^3 = 1, \\quad \\ldots, \\quad w_n^3 = 0.\n",
    "$$\n",
    "\n",
    "Продолжая эту логику до шага $n,$ получаем формулу \n",
    "\n",
    "$$\n",
    "c_i = w_i^n = 1 + q_i \\cdot \\left( \\sum_{j=i}^{n-1} \\frac{1}{1 - \\sum_{k=1}^j q_k} \\right).\n",
    "$$\n",
    "\n",
    "Подставим эти веса вместо счетчиков $c_i$. Это даст нам несмещённую оценку доли «плохих» показов на основе разметки ровно $n$ объектов\n",
    "\n",
    "$$\n",
    "\\hat p_{\\text{bad}} = \\frac{\\sum_{i=1}^n \\left[ 1 + q_i \\cdot \\left( \\sum_{j=i}^{n-1} \\frac{1}{1 - \\sum_{k=1}^j q_k} \\right) \\right] \\cdot isSpam(v_i)}{\\sum_{i=1}^n \\left[ 1 + q_i \\cdot \\left( \\sum_{j=i}^{n-1} \\frac{1}{1 - \\sum_{k=1}^j q_k} \\right)  \\right]},  \\quad q_i = \\frac{show(v_i)}{\\sum_{j=1}^{|V|} show(v_j)}.\n",
    "$$\n",
    "\n"
   ]
  },
  {
   "cell_type": "markdown",
   "id": "0b13032a",
   "metadata": {},
   "source": [
    "__е) [1 балл]__ Пришло время закодит, полученные выше веса. Сделайте $1000$ выборок без повторений размера $1000$. Постройте для каждой оценку доли плохих показов. Убедитесь, что оценка, предложенная выше, окажется несмещённой.\n",
    "\n",
    "**Hint:** для расчёта весов удобно воспользоваться несколько раз функцией `np.cumsum`."
   ]
  },
  {
   "cell_type": "code",
   "execution_count": null,
   "id": "d3c28596",
   "metadata": {},
   "outputs": [],
   "source": [
    "# внимательно изучите этот код:\n",
    "\n",
    "a = np.array([2, 3, 4, 5])\n",
    "np.cumsum(a[:-1][::-1])[::-1]"
   ]
  },
  {
   "cell_type": "code",
   "execution_count": 19,
   "id": "3c389472",
   "metadata": {},
   "outputs": [],
   "source": [
    "### ╰( ͡° ͜ʖ ͡° )つ▬▬ι═══════  bzzzzzzzzzz\n",
    "# will the code be with you"
   ]
  },
  {
   "cell_type": "markdown",
   "id": "90e4c847",
   "metadata": {},
   "source": [
    "#### 6. Доверительный интервал \n",
    "\n",
    "Про долю плохих заказов надо уметь делать выводы. Для этого надо построить доверительный интервал. Для него нужна дисперсия. Все карточки размечаются модераторами незвисимо друг от друга. Получается, что дисперсию можно найти как \n",
    "\n",
    "$$\n",
    "\\text{Var}(\\hat p_{\\text{bad}}) = \\frac{\\sum_{i=1}^n c^2_i \\cdot \\text{Var}(\\text{isSpam}(v_i))}{\\left(\\sum_{i=1}^n c_i\\right)^2} = \\frac{\\sum_{i=1}^n c^2_i}{\\left(\\sum_{i=1}^n c_i\\right)^2} \\cdot p_{\\text{bad}} \\cdot (1 - p_{\\text{bad}})\n",
    "$$\n",
    "\n",
    "Видно, что если сэмпл занимает небольшую долю выборки и показы распределены между элементами достаточно равномерно, то веса $c_i$ будут несильно отличаться от $1$. Тогда асимптотически, по мере роста размера сэмпла, стандартное отклонение метрики будет падать как $\\frac{1}{\\sqrt{n}}.$ \n",
    "\n",
    "Однако, если существенная доля показов в рекомендательной ленте представлена небольшой группой видосов, тогда веса будут существенно различаться и, начиная с определённого момента, увеличение размера выборки не будет давать заметного снижения разброса в оценке доли плохих показов."
   ]
  },
  {
   "cell_type": "markdown",
   "id": "d025111a",
   "metadata": {},
   "source": [
    "__ё) [1 балл]__ Сделайте $1000$ выборок без повторений размера $1000$. Постройте по каждой $95\\%$ доверительный интервал для доли плохих показов. \n",
    "\n",
    "Убедитесь, что он действительно покрывает долю плохих показов с вероятностью $0.95$."
   ]
  },
  {
   "cell_type": "code",
   "execution_count": 20,
   "id": "eaeef1bc",
   "metadata": {},
   "outputs": [],
   "source": [
    "### ╰( ͡° ͜ʖ ͡° )つ▬▬ι═══════  bzzzzzzzzzz\n",
    "# will the code be with you"
   ]
  },
  {
   "cell_type": "markdown",
   "id": "f6a15e7f",
   "metadata": {},
   "source": [
    "__ж) [1 балл]__ Если вы всё сделали всё верно, выше симуляции дали очень плохой результат. Доверительный интервал развалился. Он оказался слишком широким. Более того, он пробивает слева ноль. \n",
    "\n",
    "Сконструируйте доверительный интервал Уилсона. Убедитесь, что он больше не пробивает отрезок $[0;1]$."
   ]
  },
  {
   "cell_type": "code",
   "execution_count": 21,
   "id": "7633eb0f",
   "metadata": {},
   "outputs": [],
   "source": [
    "### ╰( ͡° ͜ʖ ͡° )つ▬▬ι═══════  bzzzzzzzzzz\n",
    "# will the code be with you"
   ]
  },
  {
   "cell_type": "markdown",
   "id": "94bc15cc",
   "metadata": {},
   "source": [
    "Доверительный интервал Уилсона всё еще не будет давать нужного уровня значимости из-за огромной ширины. Нам нужен какой-то способ уменьшить дисперсию. Это можно сделать с помощью машинного обучения."
   ]
  },
  {
   "cell_type": "markdown",
   "id": "971bbfaf",
   "metadata": {},
   "source": [
    "#### 7. Уменьшение дисперсии с помощью машинного обучения\n",
    "\n",
    "Когда доля маленькая, дисперсия оценки доли будет довольно высокой. Относительная ошибка в оценке быстро растёт при уменьшении доли размечаемых видосов, содержащих спам\n",
    "\n",
    "$$\n",
    "\\frac{\\sigma}{p_{\\text{bad}}} \\approx \\frac{\\sqrt{ p_{\\text{bad}} \\cdot (1 -  p_{\\text{bad}})/n} }{ p_{\\text{bad}} } \\approx \\frac{1}{\\sqrt{n \\cdot p_{\\text{bad}}}}.\n",
    "$$\n",
    "\n",
    "Например, если реальная доля показов, содержащих спам составляет $0.5\\%,$ то при разметке выборки из $1000$ видео стандартное отклонение составить $0.22\\%$ и положительную метку будут обычно получать $3-7$ видео, а наша оценка доли спама будет колебаться в пределах $(0.5 \\pm 0.22)\\%.$ При таком уровне шума отслеживать эффект от введения различных улучшений в пайплайнах модерации становится практически невозможно. \n",
    "\n",
    "Однако, если бы у нас существовал способ повысить долю просэмплированных видео с положительной разметкой в сто раз, то мы бы получили оценку доли плохого в сэмпле равную $(50 \\pm 1.6)\\%.$ \n",
    "\n",
    "Принимая во внимание, что при построении сэмпла мы завысили долю плохого в сто раз, получаем, что реальная доля плохого составит  $(0.5 \\pm 0.016)\\%.$ То есть с помощью приоритизации мы могли бы снизить разброс примерно в $14$ раз. \n",
    "\n",
    "На практике мы не можем заранее угадать какие видео будут размечены как плохие. Однако у нас есть ML-модели, предсказываютщие подозрительность видео. Например, вероятность того, что видос относится к плохому классу, $\\text{score}(v_i)$.\n",
    "\n",
    "Для того, чтобы сделать размечаемую выборку более представительной по классам, но при этом сохранить репрезентативность по потоку, повысим вероятность сэмплирования видео с высоким уровнем подозрительности.\n",
    "\n",
    "Чтобы после этого по разметке сэмпла оценить долю плохого на потоке, нам нужно обратно изменить веса видео, чтобы величины соотвествовали ожидаемым значениям без перевзвешивания. Новые веса в формуле будут равны \n",
    "\n",
    "$$\n",
    "c_i = \\sum_{i=1}^n  \\frac{1 + q_i \\cdot \\left( \\sum_{j=i}^{n-1} \\frac{1}{1 - \\sum_{k=1}^j q_k}\\right)}{\\text{score}(v_i)}, \\quad q_i = \\frac{\\text{show}(v_i)}{\\sum_{j=1}^{|V|} \\text{show}(v_j)}\n",
    "$$\n",
    "\n",
    "Оценка доли будет искаться как \n",
    "\n",
    "$$\n",
    "\\hat p_{spam} = \\frac{\\sum_{i=1}^n c_i \\cdot \\text{isSpam}(v_i)}{\\sum_{i=1}^n c_i}.\n",
    "$$\n",
    "\n",
    "Аналогично дисперсия такой оценки будет иметь вид \n",
    "\n",
    "$$\n",
    "\\text{Var}(\\hat p_{\\text{bad}}) = \\frac{\\sum_{i=1}^n c^2_i \\cdot \\text{Var}(\\text{isSpam}(v_i))}{\\left(\\sum_{i=1}^n c_i\\right)^2}.\n",
    "$$\n",
    "\n",
    "В формуле дисперсии $\\text{Var}(\\text{isSpam}(v_i))$ уже нельзя считать одинаковыми, так как есть зависимость между весом объекта, обусловленным $score(v_i)$ и дисперсией бернулиевской случайной величины $\\text{isSpam}(v_i).$ \n",
    "\n",
    "Если предсказывающая модель обучена в точности на реальном распределении, наблюдаемом в потоке либо [откалибрована,](https://github.com/esokolov/ml-course-hse/blob/master/2022-fall/seminars/sem06-calibration.ipynb) то можно считать, что $\\text{score}(v_i) = \\mathbb{P}(\\text{isSpam}(v_i) = 1).$ \n",
    "\n",
    "Тогда \n",
    "\n",
    "$$\n",
    "\\text{Var}(\\text{isSpam}(v_i)) = \\mathbb{P}(\\text{isSpam}(v_i) = 1) \\cdot \\mathbb{P}(\\text{isSpam}(v_i) = 0) = \\text{score}(v_i) \\cdot (1 - \\text{score}(v_i)).\n",
    "$$\n",
    "\n",
    "Если откалибровать модель не представляется возможным,тогда можно оценить математическое ожидание и дисперсию элемента на основе исторических данных по разметке элементов с похожими предсказаниями модели. \n",
    "\n",
    "Если для какого-то объекта по каким-то причинам отсутствует $\\text{score}(v_i),$ то при сэмплировании мы можем вставить ему произвольный вес и использовать верхнюю оценку на дисперсию бернуллиевской случайной величины, $\\text{Var}(\\text{isSpam}(v_i)) \\le 0.25.$"
   ]
  },
  {
   "cell_type": "markdown",
   "id": "6fd488fd",
   "metadata": {},
   "source": [
    "__з) [1 балл]__  Переделайте процесс генерации данных таким образом, чтобы для них можно было обучить классификатор. С помощью любых функций из sklearn сгенерируйте датасет таким образом, чтобы спам в данных встречался в $10\\%$ случаев. Обучите логистическую регрессию. Генерируйте датасет таким образом, чтобы качество модели по метрике roc-auc оказалось в районе 0.8."
   ]
  },
  {
   "cell_type": "code",
   "execution_count": null,
   "id": "84963e5a",
   "metadata": {},
   "outputs": [],
   "source": [
    "### ╰( ͡° ͜ʖ ͡° )つ▬▬ι═══════  bzzzzzzzzzz\n",
    "# will the code be with you"
   ]
  },
  {
   "cell_type": "markdown",
   "id": "34cc3e4c",
   "metadata": {},
   "source": [
    "__и) [1 балл]__ Сделайте $1000$ выборок без повторений размера $1000$. Постройте по каждой $95\\%$ доверительный интервал для доли плохих показов. \n",
    "\n",
    "Правда ли доверительный интервал стал уже? Правда ли, что он покрывает долю плохих показов с вероятностью $0.95$?"
   ]
  },
  {
   "cell_type": "code",
   "execution_count": null,
   "id": "b7e80297",
   "metadata": {},
   "outputs": [],
   "source": [
    "### ╰( ͡° ͜ʖ ͡° )つ▬▬ι═══════  bzzzzzzzzzz\n",
    "# will the code be with you"
   ]
  },
  {
   "cell_type": "markdown",
   "id": "491001a4",
   "metadata": {},
   "source": [
    "__к) [1 балл]__ Проделайте то же самое для доверительного интервала Уилсона."
   ]
  },
  {
   "cell_type": "code",
   "execution_count": null,
   "id": "c98d6b25",
   "metadata": {},
   "outputs": [],
   "source": [
    "### ╰( ͡° ͜ʖ ͡° )つ▬▬ι═══════  bzzzzzzzzzz\n",
    "# will the code be with you"
   ]
  },
  {
   "cell_type": "markdown",
   "id": "0e1b96d8",
   "metadata": {},
   "source": [
    "__л) [1 балл]__ Вместо логистической регрессии обучите SVM либо бустинг. Попробуйте построить доверительный интервал одним из способов, упомянутых выше. Что у вас получилось? Правда ли он покрывает долю плохих показов с вероятностью $0.95$? "
   ]
  },
  {
   "cell_type": "code",
   "execution_count": null,
   "id": "9f58dc40",
   "metadata": {},
   "outputs": [],
   "source": [
    "### ╰( ͡° ͜ʖ ͡° )つ▬▬ι═══════  bzzzzzzzzzz\n",
    "# will the code be with you"
   ]
  },
  {
   "cell_type": "markdown",
   "id": "202e3046",
   "metadata": {},
   "source": [
    "__м) [1 балл]__ Попробуйте в настройках эксперимента поменять долю спама в выборке с $10\\%$ до $80\\%$. Что произойдёт с дисперсией и смещением?\n",
    "\n",
    "__Ваш ответ:__ "
   ]
  }
 ],
 "metadata": {
  "kernelspec": {
   "display_name": "Python 3",
   "language": "python",
   "name": "python3"
  },
  "language_info": {
   "codemirror_mode": {
    "name": "ipython",
    "version": 3
   },
   "file_extension": ".py",
   "mimetype": "text/x-python",
   "name": "python",
   "nbconvert_exporter": "python",
   "pygments_lexer": "ipython3",
   "version": "3.11.6"
  }
 },
 "nbformat": 4,
 "nbformat_minor": 5
}
